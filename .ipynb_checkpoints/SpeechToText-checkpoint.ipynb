{
 "cells": [
  {
   "cell_type": "code",
   "execution_count": 10,
   "id": "960bc3e5-4d5e-454d-a924-221e5f6cab62",
   "metadata": {},
   "outputs": [],
   "source": [
    "import pyaudio\n",
    "import wave"
   ]
  },
  {
   "cell_type": "code",
   "execution_count": 4,
   "id": "510ce81a-fd9a-437f-9e72-44024f5d4793",
   "metadata": {},
   "outputs": [
    {
     "name": "stdout",
     "output_type": "stream",
     "text": [
      "Kayıt başlıyor...\n",
      "Kayıt tamamlandı.\n"
     ]
    }
   ],
   "source": [
    "def record_audio(filename, duration=5):\n",
    "    chunk = 1024  # Ses parçalarının boyutu\n",
    "    format = pyaudio.paInt16  # Veri formatı\n",
    "    channels = 1  # Mono kanal\n",
    "    rate = 44100  # Örnekleme oranı\n",
    "\n",
    "    p = pyaudio.PyAudio()\n",
    "    stream = p.open(format=format, channels=channels, rate=rate, input=True, frames_per_buffer=chunk)\n",
    "    print(\"Kayıt başlıyor...\")\n",
    "    \n",
    "    frames = []\n",
    "    for _ in range(0, int(rate / chunk * duration)):\n",
    "        data = stream.read(chunk)\n",
    "        frames.append(data)\n",
    "\n",
    "    print(\"Kayıt tamamlandı.\")\n",
    "    stream.stop_stream()\n",
    "    stream.close()\n",
    "    p.terminate()\n",
    "\n",
    "    # Ses dosyasını kaydet\n",
    "    wf = wave.open(filename, 'wb')\n",
    "    wf.setnchannels(channels)\n",
    "    wf.setsampwidth(p.get_sample_size(format))\n",
    "    wf.setframerate(rate)\n",
    "    wf.writeframes(b''.join(frames))\n",
    "    wf.close()\n",
    "\n",
    "record_audio(\"kayit.wav\", duration=5)\n"
   ]
  },
  {
   "cell_type": "code",
   "execution_count": 6,
   "id": "8d227e89-a219-49bf-88f7-dfe9fbd3bb64",
   "metadata": {},
   "outputs": [
    {
     "name": "stdout",
     "output_type": "stream",
     "text": [
      "Metin : telefonu açmaya çalışacağım\n"
     ]
    },
    {
     "data": {
      "text/plain": [
       "'telefonu açmaya çalışacağım'"
      ]
     },
     "execution_count": 6,
     "metadata": {},
     "output_type": "execute_result"
    }
   ],
   "source": [
    "import speech_recognition as sr\n",
    "def speech_recognition_from_audio(audio_file):\n",
    "    recognizer=sr.Recognizer()\n",
    "\n",
    "    with sr.AudioFile(audio_file) as source:\n",
    "        audio=recognizer.record(source)\n",
    "\n",
    "    try:\n",
    "        text=recognizer.recognize_google(audio,language=\"tr-TR\")\n",
    "        print(\"Metin :\",text)\n",
    "        return text\n",
    "    except sr.UnknownValueError:\n",
    "        print(\"Google speech recognizer sesi anlayamadı\")\n",
    "    except sr.RequestError as e:\n",
    "        print(f\"Google API isteği başarısız oldu; hata:{e}\")\n",
    "speech_recognition_from_audio(\"kayit.wav\")\n"
   ]
  },
  {
   "cell_type": "code",
   "execution_count": 8,
   "id": "05f0b07d-4e99-4440-8956-23881ee0a3c5",
   "metadata": {},
   "outputs": [
    {
     "name": "stdout",
     "output_type": "stream",
     "text": [
      "Bir komut söyleyin...\n",
      "Algılanan komut: led aç\n",
      "Led açılıyor...\n"
     ]
    }
   ],
   "source": [
    "#Canlı ses dinleme(Gerçek zamanlı ses )\n",
    "import speech_recognition as sr\n",
    "\n",
    "def listen_and_recognize():\n",
    "    recognizer = sr.Recognizer()\n",
    "    with sr.Microphone() as source:\n",
    "        print(\"Bir komut söyleyin...\")\n",
    "        audio = recognizer.listen(source)  # Mikrofondan ses dinle\n",
    "    try:\n",
    "        text = recognizer.recognize_google(audio, language=\"tr-TR\")  # Sesi metne dönüştür\n",
    "        print(\"Algılanan komut:\", text)\n",
    "        process_command(text)  # Komutu işle\n",
    "    except sr.UnknownValueError:\n",
    "        print(\"Anlaşılmadı\")\n",
    "    except sr.RequestError as e:\n",
    "        print(f\"API isteği başarısız oldu: {e}\")\n",
    "\n",
    "def process_command(command):\n",
    "    command = command.lower()\n",
    "    if \"led aç\" in command:\n",
    "        print(\"Led açılıyor...\")\n",
    "    elif \"led kapat\" in command:\n",
    "        pirnt(\"led kapatılıyor...\")\n",
    "    elif \"dosya aç\" in command:\n",
    "        print(\"Dosya açılıyor...\")\n",
    "    else:\n",
    "        print(\"tanımadığım komut\")\n",
    "\n",
    "listen_and_recognize()\n",
    "#kelime kelime yazsın"
   ]
  },
  {
   "cell_type": "code",
   "execution_count": null,
   "id": "5bb05449-dc48-4c2a-ac49-20741d58cf42",
   "metadata": {},
   "outputs": [],
   "source": [
    "def process_command(command):\n",
    "    command=command.lower()\n",
    "    if \"led aç\" in command:\n",
    "        print(\"Led açılıyor...\")\n",
    "    elif \"led kapat\" in command:\n",
    "        pirnt(\"led kapatılıyor...\")\n",
    "    elif \"dosya aç\" in command:\n",
    "        print(\"Dosya açılıyor...\")\n",
    "    else:\n",
    "        print(\"tanımadığım komut\")\n",
    "command=recognize_speech_from_audio(\"kayit.wav\")\n",
    "if command:\n",
    "    process_command(command)"
   ]
  },
  {
   "cell_type": "code",
   "execution_count": null,
   "id": "d6c270b8-5114-4af4-bec6-b40f876468e2",
   "metadata": {},
   "outputs": [],
   "source": []
  },
  {
   "cell_type": "code",
   "execution_count": null,
   "id": "def4f14c-3c21-435d-b401-b12f56182837",
   "metadata": {},
   "outputs": [],
   "source": []
  }
 ],
 "metadata": {
  "kernelspec": {
   "display_name": "Python 3 (ipykernel)",
   "language": "python",
   "name": "python3"
  },
  "language_info": {
   "codemirror_mode": {
    "name": "ipython",
    "version": 3
   },
   "file_extension": ".py",
   "mimetype": "text/x-python",
   "name": "python",
   "nbconvert_exporter": "python",
   "pygments_lexer": "ipython3",
   "version": "3.12.7"
  }
 },
 "nbformat": 4,
 "nbformat_minor": 5
}
